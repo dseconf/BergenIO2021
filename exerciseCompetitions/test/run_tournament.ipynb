{
 "cells": [
  {
   "cell_type": "markdown",
   "metadata": {},
   "source": [
    "# Repeated Bertrand, test notebook"
   ]
  },
  {
   "cell_type": "code",
   "execution_count": 1,
   "metadata": {},
   "outputs": [],
   "source": [
    "from scipy.optimize import minimize, fsolve"
   ]
  },
  {
   "cell_type": "code",
   "execution_count": 2,
   "metadata": {},
   "outputs": [],
   "source": [
    "from game_tournament.game import RepeatedBertrandGame, Tournament\n",
    "import numpy as np \n",
    "import matplotlib.pyplot as plt \n",
    "import pandas as pd "
   ]
  },
  {
   "cell_type": "code",
   "execution_count": 3,
   "metadata": {},
   "outputs": [],
   "source": [
    "tournament_list = []"
   ]
  },
  {
   "cell_type": "markdown",
   "metadata": {},
   "source": [
    "## Pure logit demand\n",
    "$$ D_i(p_i, p_j) = \\frac{\\exp(1-p_i)}{1 + \\exp(1-p_i) + \\exp(1 - p_j)} $$"
   ]
  },
  {
   "cell_type": "code",
   "execution_count": 4,
   "metadata": {},
   "outputs": [],
   "source": [
    "def demand_function(p1, p2, i): \n",
    "    u1 = np.exp(1.-1.0*p1)\n",
    "    u2 = np.exp(1.-1.0*p2)\n",
    "    u0 = 1.0 \n",
    "    \n",
    "    denom = u0 + u1 + u2\n",
    "    \n",
    "    if i == 0: \n",
    "        return u1/denom \n",
    "    elif i == 1: \n",
    "        return u2/denom\n",
    "    else: \n",
    "        raise Exception(f'Cannot return demand for player i={i}: must be 0 or 1.')"
   ]
  },
  {
   "cell_type": "markdown",
   "metadata": {},
   "source": [
    "Action space and cost function. "
   ]
  },
  {
   "cell_type": "code",
   "execution_count": 5,
   "metadata": {},
   "outputs": [],
   "source": [
    "c = 0.5\n",
    "pmin = c\n",
    "pmax = 10."
   ]
  },
  {
   "cell_type": "markdown",
   "metadata": {},
   "source": [
    "# Run a tournament \n",
    "This will \n",
    "\n",
    "1. read all *.py files in `player_file_path` and load a `player` class from each \n",
    "2. set up an all_play_all tournament between said players \n",
    "3. provide rankings (win = 2, draw = 1, loss = 0 points)"
   ]
  },
  {
   "cell_type": "code",
   "execution_count": 6,
   "metadata": {},
   "outputs": [
    {
     "name": "stdout",
     "output_type": "stream",
     "text": [
      "Tournament ready with 5 players\n"
     ]
    }
   ],
   "source": [
    "players_file_path = './players/'\n",
    "tournament = Tournament(players_filepath=players_file_path, game=RepeatedBertrandGame, tournament_name='PriceComp')\n",
    "print(tournament)"
   ]
  },
  {
   "cell_type": "code",
   "execution_count": 7,
   "metadata": {},
   "outputs": [
    {
     "name": "stderr",
     "output_type": "stream",
     "text": [
      "100%|██████████| 10/10 [00:00<00:00, 160.67it/s]"
     ]
    },
    {
     "name": "stdout",
     "output_type": "stream",
     "text": [
      "\n",
      "Top placements are:\n",
      "                   Name  Points\n",
      "3  Undercutting Bastard     8.0\n",
      "1               Randawg     6.0\n",
      "4        Tit-for-tatter     3.0\n",
      "2                  PMAX     3.0\n",
      "0                  pmin     0.0\n"
     ]
    },
    {
     "name": "stderr",
     "output_type": "stream",
     "text": [
      "\n"
     ]
    }
   ],
   "source": [
    "np.random.seed(1337)\n",
    "beta = 1.0\n",
    "tournament.start_tournament(T=100, beta=beta, demand_function=demand_function, marginal_cost=1.0, price_range=(pmin, pmax), discount_factor=beta)"
   ]
  },
  {
   "cell_type": "markdown",
   "metadata": {},
   "source": [
    "Show the total rankings of the game"
   ]
  },
  {
   "cell_type": "code",
   "execution_count": 8,
   "metadata": {},
   "outputs": [
    {
     "data": {
      "text/html": [
       "<div>\n",
       "<style scoped>\n",
       "    .dataframe tbody tr th:only-of-type {\n",
       "        vertical-align: middle;\n",
       "    }\n",
       "\n",
       "    .dataframe tbody tr th {\n",
       "        vertical-align: top;\n",
       "    }\n",
       "\n",
       "    .dataframe thead th {\n",
       "        text-align: right;\n",
       "    }\n",
       "</style>\n",
       "<table border=\"1\" class=\"dataframe\">\n",
       "  <thead>\n",
       "    <tr style=\"text-align: right;\">\n",
       "      <th></th>\n",
       "      <th>Name</th>\n",
       "      <th>Points</th>\n",
       "    </tr>\n",
       "  </thead>\n",
       "  <tbody>\n",
       "    <tr>\n",
       "      <th>3</th>\n",
       "      <td>Undercutting Bastard</td>\n",
       "      <td>8.0</td>\n",
       "    </tr>\n",
       "    <tr>\n",
       "      <th>1</th>\n",
       "      <td>Randawg</td>\n",
       "      <td>6.0</td>\n",
       "    </tr>\n",
       "    <tr>\n",
       "      <th>4</th>\n",
       "      <td>Tit-for-tatter</td>\n",
       "      <td>3.0</td>\n",
       "    </tr>\n",
       "    <tr>\n",
       "      <th>2</th>\n",
       "      <td>PMAX</td>\n",
       "      <td>3.0</td>\n",
       "    </tr>\n",
       "    <tr>\n",
       "      <th>0</th>\n",
       "      <td>pmin</td>\n",
       "      <td>0.0</td>\n",
       "    </tr>\n",
       "  </tbody>\n",
       "</table>\n",
       "</div>"
      ],
      "text/plain": [
       "                   Name  Points\n",
       "3  Undercutting Bastard     8.0\n",
       "1               Randawg     6.0\n",
       "4        Tit-for-tatter     3.0\n",
       "2                  PMAX     3.0\n",
       "0                  pmin     0.0"
      ]
     },
     "execution_count": 8,
     "metadata": {},
     "output_type": "execute_result"
    }
   ],
   "source": [
    "tournament.tournament_rank"
   ]
  },
  {
   "cell_type": "markdown",
   "metadata": {},
   "source": [
    "# Undercutting motive\n",
    "\n",
    "$$\n",
    "u_{ij} = \\begin{cases}\n",
    "    1 - p_i + \\alpha \\mathbf{1}\\{p_i \\le p_j\\} \\frac{1}{ntie}  & \\text{if } p_i \\le \\bar{p}\\\\ \n",
    "    0  & \\text{otherwise. } \\\\ \n",
    "\\end{cases}\n",
    "$$"
   ]
  },
  {
   "cell_type": "code",
   "execution_count": 9,
   "metadata": {},
   "outputs": [],
   "source": [
    "def demand_function(p1, p2, i): \n",
    "    alpha = 0.5\n",
    "    u1 = np.exp(1. - 1.0*p1 + alpha*(p1<p2) + 0.5*alpha*(p1==p2))\n",
    "    u2 = np.exp(1. - 1.0*p2 + alpha*(p2<p1) + 0.5*alpha*(p1==p2))\n",
    "    u0 = 1.0 \n",
    "    \n",
    "    denom = u0 + u1 + u2\n",
    "    \n",
    "    if i == 0: \n",
    "        return u1/denom \n",
    "    elif i == 1: \n",
    "        return u2/denom\n",
    "    else: \n",
    "        raise Exception(f'Cannot return demand for player i={i}: must be 0 or 1.')"
   ]
  },
  {
   "cell_type": "code",
   "execution_count": 10,
   "metadata": {},
   "outputs": [],
   "source": [
    "import warnings\n",
    "warnings.filterwarnings('ignore')"
   ]
  },
  {
   "cell_type": "code",
   "execution_count": 11,
   "metadata": {},
   "outputs": [
    {
     "name": "stderr",
     "output_type": "stream",
     "text": [
      "\r",
      "  0%|          | 0/10 [00:00<?, ?it/s]"
     ]
    },
    {
     "name": "stdout",
     "output_type": "stream",
     "text": [
      "Tournament ready with 5 players\n"
     ]
    },
    {
     "name": "stderr",
     "output_type": "stream",
     "text": [
      "100%|██████████| 10/10 [00:00<00:00, 97.64it/s]"
     ]
    },
    {
     "name": "stdout",
     "output_type": "stream",
     "text": [
      "\n",
      "Top placements are:\n",
      "                   Name  Points\n",
      "3  Undercutting Bastard     8.0\n",
      "1               Randawg     6.0\n",
      "4        Tit-for-tatter     3.0\n",
      "2                  PMAX     3.0\n",
      "0                  pmin     0.0\n",
      "Finished tournament among 5 players, winner was: pmin\n"
     ]
    },
    {
     "name": "stderr",
     "output_type": "stream",
     "text": [
      "\n"
     ]
    }
   ],
   "source": [
    "players_file_path = './players/'\n",
    "tournament2 = Tournament(players_filepath=players_file_path, game=RepeatedBertrandGame, tournament_name='PriceComp')\n",
    "print(tournament2)\n",
    "\n",
    "np.random.seed(1337)\n",
    "beta = 0.99 \n",
    "tournament2.start_tournament(T=100, beta=beta, demand_function=demand_function, marginal_cost=1.0, price_range=(pmin, pmax), discount_factor=beta)\n",
    "print(tournament2)\n",
    "tournament_list.append(tournament2)"
   ]
  },
  {
   "cell_type": "markdown",
   "metadata": {},
   "source": [
    "Show the total rankings of the game"
   ]
  },
  {
   "cell_type": "code",
   "execution_count": 12,
   "metadata": {},
   "outputs": [
    {
     "data": {
      "text/html": [
       "<div>\n",
       "<style scoped>\n",
       "    .dataframe tbody tr th:only-of-type {\n",
       "        vertical-align: middle;\n",
       "    }\n",
       "\n",
       "    .dataframe tbody tr th {\n",
       "        vertical-align: top;\n",
       "    }\n",
       "\n",
       "    .dataframe thead th {\n",
       "        text-align: right;\n",
       "    }\n",
       "</style>\n",
       "<table border=\"1\" class=\"dataframe\">\n",
       "  <thead>\n",
       "    <tr style=\"text-align: right;\">\n",
       "      <th></th>\n",
       "      <th>Name</th>\n",
       "      <th>Points</th>\n",
       "    </tr>\n",
       "  </thead>\n",
       "  <tbody>\n",
       "    <tr>\n",
       "      <th>3</th>\n",
       "      <td>Undercutting Bastard</td>\n",
       "      <td>8.0</td>\n",
       "    </tr>\n",
       "    <tr>\n",
       "      <th>1</th>\n",
       "      <td>Randawg</td>\n",
       "      <td>6.0</td>\n",
       "    </tr>\n",
       "    <tr>\n",
       "      <th>4</th>\n",
       "      <td>Tit-for-tatter</td>\n",
       "      <td>3.0</td>\n",
       "    </tr>\n",
       "    <tr>\n",
       "      <th>2</th>\n",
       "      <td>PMAX</td>\n",
       "      <td>3.0</td>\n",
       "    </tr>\n",
       "    <tr>\n",
       "      <th>0</th>\n",
       "      <td>pmin</td>\n",
       "      <td>0.0</td>\n",
       "    </tr>\n",
       "  </tbody>\n",
       "</table>\n",
       "</div>"
      ],
      "text/plain": [
       "                   Name  Points\n",
       "3  Undercutting Bastard     8.0\n",
       "1               Randawg     6.0\n",
       "4        Tit-for-tatter     3.0\n",
       "2                  PMAX     3.0\n",
       "0                  pmin     0.0"
      ]
     },
     "execution_count": 12,
     "metadata": {},
     "output_type": "execute_result"
    }
   ],
   "source": [
    "tournament2.tournament_rank"
   ]
  },
  {
   "cell_type": "markdown",
   "metadata": {},
   "source": [
    "# Pure Bertrand"
   ]
  },
  {
   "cell_type": "code",
   "execution_count": 13,
   "metadata": {},
   "outputs": [],
   "source": [
    "def demand_function(p1, p2, i): \n",
    "    alpha = 3.0 # punishment for being too expensive\n",
    "    u1 = np.exp(1.-1.0*p1 - alpha*(p1>p2))\n",
    "    u2 = np.exp(1.-1.0*p2 - alpha*(p2>p1))\n",
    "    u0 = 1.0 \n",
    "    \n",
    "    denom = u0 + u1 + u2\n",
    "    \n",
    "    if i == 0: \n",
    "        return u1/denom \n",
    "    elif i == 1: \n",
    "        return u2/denom\n",
    "    else: \n",
    "        raise Exception(f'Cannot return demand for player i={i}: must be 0 or 1.')"
   ]
  },
  {
   "cell_type": "code",
   "execution_count": 14,
   "metadata": {},
   "outputs": [],
   "source": [
    "import warnings\n",
    "warnings.filterwarnings('ignore')"
   ]
  },
  {
   "cell_type": "code",
   "execution_count": 15,
   "metadata": {},
   "outputs": [
    {
     "name": "stderr",
     "output_type": "stream",
     "text": [
      "\r",
      "  0%|          | 0/10 [00:00<?, ?it/s]"
     ]
    },
    {
     "name": "stdout",
     "output_type": "stream",
     "text": [
      "Tournament ready with 5 players\n"
     ]
    },
    {
     "name": "stderr",
     "output_type": "stream",
     "text": [
      "\r",
      "100%|██████████| 10/10 [00:00<00:00, 117.51it/s]"
     ]
    },
    {
     "name": "stdout",
     "output_type": "stream",
     "text": [
      "\n",
      "Top placements are:\n",
      "                   Name  Points\n",
      "3  Undercutting Bastard     8.0\n",
      "1               Randawg     6.0\n",
      "4        Tit-for-tatter     3.0\n",
      "2                  PMAX     3.0\n",
      "0                  pmin     0.0\n"
     ]
    },
    {
     "name": "stderr",
     "output_type": "stream",
     "text": [
      "\n"
     ]
    },
    {
     "data": {
      "text/html": [
       "<div>\n",
       "<style scoped>\n",
       "    .dataframe tbody tr th:only-of-type {\n",
       "        vertical-align: middle;\n",
       "    }\n",
       "\n",
       "    .dataframe tbody tr th {\n",
       "        vertical-align: top;\n",
       "    }\n",
       "\n",
       "    .dataframe thead th {\n",
       "        text-align: right;\n",
       "    }\n",
       "</style>\n",
       "<table border=\"1\" class=\"dataframe\">\n",
       "  <thead>\n",
       "    <tr style=\"text-align: right;\">\n",
       "      <th></th>\n",
       "      <th>Name</th>\n",
       "      <th>Points</th>\n",
       "    </tr>\n",
       "  </thead>\n",
       "  <tbody>\n",
       "    <tr>\n",
       "      <th>3</th>\n",
       "      <td>Undercutting Bastard</td>\n",
       "      <td>8.0</td>\n",
       "    </tr>\n",
       "    <tr>\n",
       "      <th>1</th>\n",
       "      <td>Randawg</td>\n",
       "      <td>6.0</td>\n",
       "    </tr>\n",
       "    <tr>\n",
       "      <th>4</th>\n",
       "      <td>Tit-for-tatter</td>\n",
       "      <td>3.0</td>\n",
       "    </tr>\n",
       "    <tr>\n",
       "      <th>2</th>\n",
       "      <td>PMAX</td>\n",
       "      <td>3.0</td>\n",
       "    </tr>\n",
       "    <tr>\n",
       "      <th>0</th>\n",
       "      <td>pmin</td>\n",
       "      <td>0.0</td>\n",
       "    </tr>\n",
       "  </tbody>\n",
       "</table>\n",
       "</div>"
      ],
      "text/plain": [
       "                   Name  Points\n",
       "3  Undercutting Bastard     8.0\n",
       "1               Randawg     6.0\n",
       "4        Tit-for-tatter     3.0\n",
       "2                  PMAX     3.0\n",
       "0                  pmin     0.0"
      ]
     },
     "execution_count": 15,
     "metadata": {},
     "output_type": "execute_result"
    }
   ],
   "source": [
    "players_file_path = './players/'\n",
    "tournament3 = Tournament(players_filepath=players_file_path, game=RepeatedBertrandGame, tournament_name='PriceComp')\n",
    "print(tournament3)\n",
    "\n",
    "np.random.seed(1337)\n",
    "beta = 0.99 \n",
    "tournament3.start_tournament(T=100, beta=beta, demand_function=demand_function, marginal_cost=1.0, price_range=(pmin, pmax), discount_factor=beta)\n",
    "\n",
    "tournament_list.append(tournament3)\n",
    "\n",
    "# Show the total rankings of the game\n",
    "tournament3.tournament_rank"
   ]
  },
  {
   "cell_type": "markdown",
   "metadata": {},
   "source": [
    "# Collect results"
   ]
  },
  {
   "cell_type": "code",
   "execution_count": 16,
   "metadata": {},
   "outputs": [],
   "source": [
    "game_names = ['Pure Cournot', 'Pure Bertrand', 'Half-half']\n",
    "\n",
    "# initialize dataframe\n",
    "res = tournament_list[0].tournament_rank.rename(columns={'Points':game_names[0]}).set_index('Name')\n",
    "\n",
    "# merge all other in list \n",
    "i = 1\n",
    "for g in tournament_list[1:]: \n",
    "    res = res.join(g.tournament_rank\n",
    "                   .rename(columns={'Points':game_names[i]}).set_index('Name')\n",
    "                  )\n",
    "    i += 1"
   ]
  },
  {
   "cell_type": "code",
   "execution_count": 17,
   "metadata": {},
   "outputs": [
    {
     "data": {
      "text/html": [
       "<div>\n",
       "<style scoped>\n",
       "    .dataframe tbody tr th:only-of-type {\n",
       "        vertical-align: middle;\n",
       "    }\n",
       "\n",
       "    .dataframe tbody tr th {\n",
       "        vertical-align: top;\n",
       "    }\n",
       "\n",
       "    .dataframe thead th {\n",
       "        text-align: right;\n",
       "    }\n",
       "</style>\n",
       "<table border=\"1\" class=\"dataframe\">\n",
       "  <thead>\n",
       "    <tr style=\"text-align: right;\">\n",
       "      <th></th>\n",
       "      <th>Pure Cournot</th>\n",
       "      <th>Pure Bertrand</th>\n",
       "    </tr>\n",
       "    <tr>\n",
       "      <th>Name</th>\n",
       "      <th></th>\n",
       "      <th></th>\n",
       "    </tr>\n",
       "  </thead>\n",
       "  <tbody>\n",
       "    <tr>\n",
       "      <th>Undercutting Bastard</th>\n",
       "      <td>8.0</td>\n",
       "      <td>8.0</td>\n",
       "    </tr>\n",
       "    <tr>\n",
       "      <th>Randawg</th>\n",
       "      <td>6.0</td>\n",
       "      <td>6.0</td>\n",
       "    </tr>\n",
       "    <tr>\n",
       "      <th>Tit-for-tatter</th>\n",
       "      <td>3.0</td>\n",
       "      <td>3.0</td>\n",
       "    </tr>\n",
       "    <tr>\n",
       "      <th>PMAX</th>\n",
       "      <td>3.0</td>\n",
       "      <td>3.0</td>\n",
       "    </tr>\n",
       "    <tr>\n",
       "      <th>pmin</th>\n",
       "      <td>0.0</td>\n",
       "      <td>0.0</td>\n",
       "    </tr>\n",
       "  </tbody>\n",
       "</table>\n",
       "</div>"
      ],
      "text/plain": [
       "                      Pure Cournot  Pure Bertrand\n",
       "Name                                             \n",
       "Undercutting Bastard           8.0            8.0\n",
       "Randawg                        6.0            6.0\n",
       "Tit-for-tatter                 3.0            3.0\n",
       "PMAX                           3.0            3.0\n",
       "pmin                           0.0            0.0"
      ]
     },
     "execution_count": 17,
     "metadata": {},
     "output_type": "execute_result"
    }
   ],
   "source": [
    "res"
   ]
  },
  {
   "cell_type": "code",
   "execution_count": 18,
   "metadata": {},
   "outputs": [
    {
     "data": {
      "text/plain": [
       "Name\n",
       "Undercutting Bastard    8.0\n",
       "Randawg                 6.0\n",
       "Tit-for-tatter          3.0\n",
       "PMAX                    3.0\n",
       "pmin                    0.0\n",
       "dtype: float64"
      ]
     },
     "execution_count": 18,
     "metadata": {},
     "output_type": "execute_result"
    }
   ],
   "source": [
    "res.mean(1)"
   ]
  },
  {
   "cell_type": "code",
   "execution_count": 19,
   "metadata": {},
   "outputs": [],
   "source": [
    "res['Total'] = res.mean(1)"
   ]
  },
  {
   "cell_type": "code",
   "execution_count": 20,
   "metadata": {},
   "outputs": [],
   "source": [
    "res.to_csv('results.csv')"
   ]
  }
 ],
 "metadata": {
  "kernelspec": {
   "display_name": "Python 3",
   "language": "python",
   "name": "python3"
  },
  "language_info": {
   "codemirror_mode": {
    "name": "ipython",
    "version": 3
   },
   "file_extension": ".py",
   "mimetype": "text/x-python",
   "name": "python",
   "nbconvert_exporter": "python",
   "pygments_lexer": "ipython3",
   "version": "3.7.6"
  }
 },
 "nbformat": 4,
 "nbformat_minor": 4
}
