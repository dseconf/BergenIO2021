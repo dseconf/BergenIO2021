{
 "cells": [
  {
   "cell_type": "markdown",
   "id": "6771af87-9473-490c-b513-d49ad0e425bf",
   "metadata": {},
   "source": [
    "# BLP Sandbox "
   ]
  },
  {
   "cell_type": "code",
   "execution_count": 1,
   "id": "49fb5684-e238-4427-847d-c02447d6a21e",
   "metadata": {},
   "outputs": [],
   "source": [
    "import numpy as np \n",
    "import pandas as pd \n",
    "from scipy.linalg import block_diag\n",
    "import seaborn as sns \n",
    "import matplotlib.pyplot as plt \n",
    "\n",
    "%load_ext autoreload \n",
    "%autoreload 2\n",
    "\n",
    "%aimport logit"
   ]
  },
  {
   "cell_type": "markdown",
   "id": "91329b92-f5af-436c-afbb-079f51a3dcf3",
   "metadata": {},
   "source": [
    "# Read in Verboven dataset"
   ]
  },
  {
   "cell_type": "code",
   "execution_count": 2,
   "id": "62b76b75-cc3c-4f6b-b65f-4dc56cf4ab5d",
   "metadata": {},
   "outputs": [],
   "source": [
    "cars = pd.read_csv('cars.csv')"
   ]
  },
  {
   "cell_type": "code",
   "execution_count": 3,
   "id": "6e3dab16-654e-468b-a7a9-e05567d4ab96",
   "metadata": {},
   "outputs": [],
   "source": [
    "price_var = 'princ'\n",
    "\n",
    "cars['logp'] = np.log(cars[price_var])\n",
    "\n",
    "# new variable: price elasticity heterogeneous for home-region \n",
    "cars['logp_x_home'] = cars[price_var] * cars['home']\n",
    "\n",
    "dummyvar = 'brd'\n",
    "dummies = pd.get_dummies(cars[dummyvar])\n",
    "x_vars_dummies = list(dummies.columns[1:].values) # omit a reference category §\n",
    "if not dummies.columns[0] in cars.columns: \n",
    "    cars = pd.concat([cars,dummies], axis=1)\n",
    "else: \n",
    "    print('dummies already in cars dataframe')"
   ]
  },
  {
   "cell_type": "markdown",
   "id": "b9f9c3bd-69cd-422c-b0fe-30c9e5108a4d",
   "metadata": {},
   "source": [
    "Set up an x matrix to do conditional logit."
   ]
  },
  {
   "cell_type": "code",
   "execution_count": 4,
   "id": "ae00da4c-4ac1-4772-bd1d-c6eac089f430",
   "metadata": {},
   "outputs": [
    {
     "name": "stdout",
     "output_type": "stream",
     "text": [
      "K = 6 variables selected.\n"
     ]
    }
   ],
   "source": [
    "x_vars = ['logp', 'home', 'cy', 'hp', 'we', 'li'] # + x_vars_dummies\n",
    "print(f'K = {len(x_vars)} variables selected.')\n",
    "\n",
    "K = len(x_vars)\n",
    "N = cars.ma.nunique() * cars.ye.nunique()\n",
    "J = 40 \n",
    "x = cars[x_vars].values.reshape((N,J,K))\n",
    "y = np.log(cars['s'].values.reshape((N,J))) # log market shares \n",
    "\n",
    "# standardize x\n",
    "# x = ((x - x.mean(0).mean(0))/(x.std(0).std(0)))"
   ]
  },
  {
   "cell_type": "markdown",
   "id": "5c5d3390-3e7d-4606-87bb-271ff42ead35",
   "metadata": {},
   "source": [
    "# Set up simple logit model"
   ]
  },
  {
   "cell_type": "code",
   "execution_count": 5,
   "id": "9bdacb1f-7acb-46ba-bce0-9425bef5aec2",
   "metadata": {},
   "outputs": [],
   "source": [
    "theta0 = np.zeros((K,))"
   ]
  },
  {
   "cell_type": "code",
   "execution_count": 6,
   "id": "7aac6a71-8c44-4042-aa8d-2223e0cd498f",
   "metadata": {},
   "outputs": [],
   "source": [
    "ccp = logit.choice_prob(theta0, x)"
   ]
  },
  {
   "cell_type": "code",
   "execution_count": 7,
   "id": "e411b37c-4dee-4717-bd77-7da04ea1ca52",
   "metadata": {},
   "outputs": [],
   "source": [
    "def log_market_shares(delta): \n",
    "    assert delta.ndim == 2 \n",
    "    N,J = delta.shape\n",
    "    \n",
    "    denom = np.log(np.sum(np.exp(delta), 1, keepdims=True)) # (N,1): keepdims ensures we can subtract from (N,J) array \n",
    "    \n",
    "    return delta - denom"
   ]
  },
  {
   "cell_type": "code",
   "execution_count": 8,
   "id": "0c30e7b5-dd1a-4405-b797-507c9370ae98",
   "metadata": {},
   "outputs": [],
   "source": [
    "def ccp(delta): \n",
    "    assert delta.ndim == 2 \n",
    "    \n",
    "    ev = np.exp(delta - delta.max(1, keepdims=True))\n",
    "    \n",
    "    return ev / np.sum(ev, 1, keepdims=True)"
   ]
  },
  {
   "cell_type": "markdown",
   "id": "289d2a46-48a9-4fff-b89f-d8316fd50614",
   "metadata": {},
   "source": [
    "The BLP contraction operator is \n",
    "\n",
    "$$ \\delta^{r+1}_{ij} = f_{ij} (\\delta^{r}) \\equiv  \\delta^{r}_{ij} + \\log s^{data}_{ij} - \\log s^{pred}_{ij}(\\delta) $$ "
   ]
  },
  {
   "cell_type": "code",
   "execution_count": 9,
   "id": "f14c7091-247e-455f-a73a-6cb79fdd12cb",
   "metadata": {},
   "outputs": [],
   "source": [
    "lms_data = y # observed log market shares\n",
    "def contract(delta): \n",
    "    '''Take a single step in the BLP contraction'''\n",
    "    assert delta.ndim == 2 \n",
    "    N,J = delta.shape\n",
    "    \n",
    "    market_shares_pred = ccp(delta)\n",
    "    \n",
    "    # the contraction step \n",
    "    delta_new = delta + lms_data - np.log(market_shares_pred)\n",
    "    \n",
    "    # normalize one alternative in each choiceset \n",
    "    delta_new -= delta_new[:, 0].reshape(-1,1)\n",
    "    \n",
    "    return delta_new "
   ]
  },
  {
   "cell_type": "code",
   "execution_count": 10,
   "id": "e7a1ed0c-e142-4b88-a48d-51d90f6b0330",
   "metadata": {},
   "outputs": [],
   "source": [
    "def fxp(delta0, f_contract=contract, maxit=100, tol=1e-12, DOPRINT=False): \n",
    "    '''fxp(): Solve the BLP Fixed Point by iterating on the contraction mapping'''\n",
    "    assert callable(contract)\n",
    "    N,J = delta0.shape\n",
    "    \n",
    "    crits = [] # return criterion values encountered along the way (for plotting)\n",
    "    success = False \n",
    "    d0 = np.copy(delta0) \n",
    "    \n",
    "    for it in range(maxit): \n",
    "        d1 = f_contract(d0) \n",
    "\n",
    "        crit = np.max(np.abs(d1 - d0))\n",
    "        crits.append(crit)\n",
    "        \n",
    "        # check convergence \n",
    "        if crit < tol: \n",
    "            print(f'Convergence achieved at {it=}, {crit=: 8.4g}')\n",
    "            success = True\n",
    "            break\n",
    "        else: \n",
    "            # update \n",
    "            if DOPRINT:  \n",
    "                print(f'{it=:3d}: {crit=:8.4g}')\n",
    "            d0 = d1\n",
    "            \n",
    "    return d1, success, crits "
   ]
  },
  {
   "cell_type": "code",
   "execution_count": 11,
   "id": "d29d4866-a4b9-45ac-a343-531a3ed233d5",
   "metadata": {},
   "outputs": [
    {
     "name": "stdout",
     "output_type": "stream",
     "text": [
      "Convergence achieved at it=1, crit= 1.776e-15\n"
     ]
    }
   ],
   "source": [
    "delta0 = 1. + np.zeros((N,J))\n",
    "delta_star = fxp(delta0)"
   ]
  },
  {
   "cell_type": "markdown",
   "id": "3d2592cc-ac24-40fe-af41-b834eeccf7fb",
   "metadata": {},
   "source": [
    "### Conclusion \n",
    "\n",
    "**Proposition:** Convergence occurs in a single iteration to $\\delta_{ij}^* =  \\log s^{data}_{ij}$. \n",
    "\n",
    "Convergence occurs in a single iteration on the contraction mapping. This is, however, not surprising if we look more closely at the operator: \n",
    "\n",
    "$$ f_{ij}(\\delta) = \\delta_{ij} + \\log s^{data}_{ij} - \\log s_{ij}(\\delta)$$\n",
    "\n",
    "Since the model is so simple, \n",
    "$$ \n",
    "\\log s_{ij}(\\delta) = \\delta_{ij} - \\log \\left[ \\sum_{k=1}^J \\exp(\\delta_{ik}) \\right],\n",
    "$$\n",
    "\n",
    "implying that the contraction mapping simplifies to \n",
    "$$\n",
    "f_{ij} (\\delta) = \\log s^{data}_{ij} - \\log \\left[ \\sum_{k=1}^J \\exp(\\delta_{ik}) \\right]. \n",
    "$$\n",
    "\n",
    "And because the \"logsum\" is constant within a market $i$, we obtain \n",
    "$$\n",
    "\\delta_{ij}^* =  \\log s^{data}_{ij}\n",
    "$$\n",
    "\n",
    "Note that the logsum here drops out because we do not have an outside option: we can scale up/down all $\\delta_{ij}$ by the same additive level shift without affecting the choice probabilities (in fact, this is what we exploit when we do the max rescaling). Hence, only relative magnitudes matter, which are determined by $\\log s^{data}_{ij}$. "
   ]
  },
  {
   "cell_type": "markdown",
   "id": "2e53e1d3-c6e6-4ed7-91ed-db021a798963",
   "metadata": {},
   "source": [
    "## Jacobian of the contraction mapping operator\n",
    "\n",
    "Jacobian of the BLP contraction operator is \n",
    "$$\n",
    "\\frac{\\partial f_{ij}}{\\partial \\delta_{k\\ell}} = 1 - \\frac{\\partial \\log s_{ij}(\\delta)}{\\partial \\delta_{k\\ell}}\n",
    "$$\n",
    "\n",
    "where \n",
    "\n",
    "$$ \\frac{\\partial s_{ij}}{\\partial \\delta_{k \\ell}} = \\begin{cases}\n",
    "s_{ij}(1-s_{ij}) & i = k \\wedge j = \\ell, \\\\\n",
    "- s_{ij} s_{i \\ell} & i = k \\wedge j \\ne \\ell, \\\\ \n",
    "0 & i \\ne k.\n",
    "\\end{cases}$$ \n",
    "\n",
    "Since $\\frac{\\partial}{\\partial \\delta_{\\ell m}} f_{ij}(\\delta) = 0$ for $\\ell \\ne i$, and since `delta` is `(N,J)`, we have that co-dependence is only along rows. \n",
    "\n",
    "Note that the equations above should hold for general Mixed Logit, but not for nested logit (or so my intuition tells me). "
   ]
  },
  {
   "cell_type": "markdown",
   "id": "fa9f9c87-030a-48bb-813d-1ef321adb160",
   "metadata": {},
   "source": [
    "**visualizing** the block diagonal structure of the Jacobian matrix: run the code below\n",
    "```python\n",
    "J1 = block_diag(*[np.outer(delta1[i,:], delta1[i,:]) for i in range(3)])\n",
    "sns.heatmap(-np.abs(J1), cmap='inferno')\n",
    "```"
   ]
  },
  {
   "cell_type": "markdown",
   "id": "3cf1c792",
   "metadata": {},
   "source": [
    "Note: the code below assumes that we are vectorizing the whole thing, rather than looping over individual markets. The problem is incredibly sparse which is not exploited this way, and it is super inefficient with memory. But perhaps simpler to understand. "
   ]
  },
  {
   "cell_type": "code",
   "execution_count": 12,
   "id": "b713fad8-f121-4d17-987f-2557a7067758",
   "metadata": {},
   "outputs": [],
   "source": [
    "def jac_contract(delta): \n",
    "    '''Jacobian of the contraction operator (for the stacked problem)\n",
    "    Args\n",
    "        delta: full list of mean utilities for all N*J market-product pairs \n",
    "    ''' \n",
    "    N,J = delta.shape \n",
    "    NJ = delta.size  # N*J\n",
    "    \n",
    "    # 1. compute CCPs \n",
    "    c = ccp(delta) \n",
    "    \n",
    "    # 2. create -s_ij * s_ik \n",
    "    # since c is N*J, and since blocks only form within markets (i.e. rows), \n",
    "    # we just have to compute the outer product of each row, i=1,...,N\n",
    "    J_common = block_diag(*[np.outer(c[i,:], c[i,:]) for i in range(N)])\n",
    "    \n",
    "    # 3. add s_ij to diagonal (keeping all other elements = -s_ij*s_ik \n",
    "    J_s = np.diag(c.flatten()) - J_common\n",
    "    \n",
    "    # 4. account for outer \"delta + log()\" \n",
    "    J_full = np.eye(NJ) - 1./(c.reshape(NJ,1)) * J_s\n",
    "    \n",
    "    return J_full"
   ]
  },
  {
   "cell_type": "code",
   "execution_count": 13,
   "id": "36222ddb-f3b6-4613-8970-ab8945dbacb5",
   "metadata": {},
   "outputs": [],
   "source": [
    "delta0 = 0.001 * np.ones((N,J))"
   ]
  },
  {
   "cell_type": "code",
   "execution_count": 14,
   "id": "59a27e74-5e93-4059-9d8e-df9d1064c42b",
   "metadata": {},
   "outputs": [],
   "source": [
    "Jac = jac_contract(delta0)"
   ]
  },
  {
   "cell_type": "markdown",
   "id": "93735bb5-9618-49f2-9607-6a75c8f9dc7b",
   "metadata": {},
   "source": [
    "To check our calculations, it can be nice with a numerical derivative of the contraction operator."
   ]
  },
  {
   "cell_type": "code",
   "execution_count": 15,
   "id": "48de65f7-8aea-42cd-a8b3-becb2bcda119",
   "metadata": {},
   "outputs": [],
   "source": [
    "def jac_contract_num(delta0, f_contract=contract, i=0, h=1e-8): \n",
    "    '''Numerical Jacobian (for just one row in the matrix)\n",
    "    Args\n",
    "        delta0: N*J matrix of mean utilities \n",
    "        f_contract: function handle to contraction operator \n",
    "        i: row at which to do the numerical jacobian \n",
    "        h: relative step size of the numerical derivative \n",
    "        \n",
    "    Returns\n",
    "        Jac_num: J-vector of partial effects of the contraction \n",
    "            mapping wrt. the deltas\n",
    "    '''\n",
    "    NJ = delta0.size\n",
    "    assert callable(f_contract)\n",
    "    \n",
    "    d0 = f_contract(delta0)\n",
    "\n",
    "    # compute step \n",
    "    delta1 = np.copy(delta0)\n",
    "    if delta1[i,0] == 0.0: \n",
    "        delta1[i,0] = h\n",
    "        step = h\n",
    "    else: \n",
    "        delta1[i,0] = delta0[i,0]*(1.+h)\n",
    "        step = h*delta0[i,0]\n",
    "\n",
    "    # evaluate at d1 \n",
    "    d1 = f_contract(delta1)\n",
    "\n",
    "    # newton quotient \n",
    "    Jac_num = (d1 - d0)/step\n",
    "\n",
    "    Jac_num = Jac_num.reshape(1, NJ)\n",
    "    \n",
    "    return Jac_num"
   ]
  },
  {
   "cell_type": "code",
   "execution_count": 16,
   "id": "333b1a57-7dc9-4ceb-b4b2-6765a67f7d1d",
   "metadata": {},
   "outputs": [],
   "source": [
    "delta0 = 1. + np.zeros((N,J))"
   ]
  },
  {
   "cell_type": "code",
   "execution_count": 17,
   "id": "87668b5f-7206-4e9d-8f0f-5b7408fb745c",
   "metadata": {},
   "outputs": [
    {
     "data": {
      "text/plain": [
       "0.00016666666666666666"
      ]
     },
     "execution_count": 17,
     "metadata": {},
     "output_type": "execute_result"
    }
   ],
   "source": [
    "i=0\n",
    "np.mean(np.abs(jac_contract_num(delta0, contract, i) - jac_contract(delta0)[i,:]))"
   ]
  },
  {
   "cell_type": "code",
   "execution_count": 18,
   "id": "ed92d7d1-9fe6-4d80-8444-741c7c426313",
   "metadata": {},
   "outputs": [
    {
     "data": {
      "text/plain": [
       "array([[0., 0., 0., ..., 0., 0., 0.]])"
      ]
     },
     "execution_count": 18,
     "metadata": {},
     "output_type": "execute_result"
    }
   ],
   "source": [
    "jac_contract_num(delta0, contract, i)"
   ]
  },
  {
   "cell_type": "code",
   "execution_count": 19,
   "id": "06c3a573-fe51-4be6-8b36-6d169dc5c83a",
   "metadata": {},
   "outputs": [
    {
     "data": {
      "text/plain": [
       "array([0.025, 0.025, 0.025, ..., 0.   , 0.   , 0.   ])"
      ]
     },
     "execution_count": 19,
     "metadata": {},
     "output_type": "execute_result"
    }
   ],
   "source": [
    "jac_contract(delta0)[i,:]"
   ]
  },
  {
   "cell_type": "markdown",
   "id": "71720650-72c1-4782-a24c-9cc573ea4c56",
   "metadata": {},
   "source": [
    "# More complex logit models\n",
    "\n",
    "Once we introduce either *Random Coefficients* or *Nesting* in the logit model, however, the fixed point problem becomes non-trivial. This is because $\\delta_{ij} - \\log s_{ij}(\\delta)$ is no longer constant across $j$ within $i$. \n",
    "\n",
    "In this example, suppose that $\\theta_{k} \\sim F$ according to some cdf $F$. And either we are calculating an approximation of the final integral using $\\theta_{ks}$ for $s = 1,...,10$ grid points, or else we are really assuming a latent class model where there are only $S = 10$ possible values that $\\theta_k$ can take."
   ]
  },
  {
   "cell_type": "code",
   "execution_count": 20,
   "id": "7645e46a-e0a5-489f-ac29-b823dc158267",
   "metadata": {},
   "outputs": [],
   "source": [
    "S = 10 # \"simulations\" \n",
    "thetas = .1 + np.zeros((S,K))\n",
    "\n",
    "k = 0 \n",
    "thetas[:, k] += np.linspace(-.3, .3, S)"
   ]
  },
  {
   "cell_type": "code",
   "execution_count": 21,
   "id": "92daeef4-afd1-48a3-a0a9-1ba4f6befff5",
   "metadata": {},
   "outputs": [],
   "source": [
    "def ccp_s(delta, x_demean, theta): \n",
    "    '''ccp_s: conditional choice probabilities for a specific vector of thetas'''\n",
    "    assert theta.ndim == 1\n",
    "    N,J,K = x_demean.shape\n",
    "    K = theta.shape \n",
    "    \n",
    "    mu = x_demean @ theta # -> (N,J)\n",
    "    v = delta + mu\n",
    "    vmax = v.max(1, keepdims=True) # (N,1), not (N,): so we can subtract column-wise from an (N,J) matrix\n",
    "    ev = np.exp(v - vmax)\n",
    "    denom = np.sum(ev, 1, keepdims=True) # (N,1) for same reasons\n",
    "    return ev / denom \n",
    "\n",
    "def ccp_full(delta, x_demean, thetas): \n",
    "    '''ccp_full: integrate out S draws of theta''' \n",
    "    N,J = delta.shape\n",
    "    S,K = thetas.shape\n",
    "    \n",
    "    c = np.zeros((N,J))\n",
    "    for s in range(S): # iterate over simulated theta vectors \n",
    "        prob = 1/S # uniform weights, e.g. in Monte Carlo simulation \n",
    "        c += prob * ccp_s(delta, x_demean, thetas[s,:])\n",
    "    \n",
    "    return c "
   ]
  },
  {
   "cell_type": "code",
   "execution_count": 22,
   "id": "c5dbbd7d-45d4-42de-bc18-d4a48fe741aa",
   "metadata": {},
   "outputs": [],
   "source": [
    "x_demean = (x - x.mean(0).mean(0).reshape(1,1,K)) / (x.std(0).std(0).reshape(1,1,K))"
   ]
  },
  {
   "cell_type": "code",
   "execution_count": 23,
   "id": "629a6b9d-ed65-432d-9435-870791317687",
   "metadata": {},
   "outputs": [],
   "source": [
    "delta0 = np.copy(y) # starting value: mean utils from a simple logit \n",
    "lms_data = y # observed log market shares\n",
    "def contract(delta, DONORMALIZE=True): \n",
    "    '''Take a single step in the BLP contraction'''\n",
    "    assert delta.ndim == 2 \n",
    "    N,J = delta.shape\n",
    "    \n",
    "    #lms_pred = log_market_shares(delta)\n",
    "    market_shares_pred = ccp_full(delta, x_demean, thetas)\n",
    "    \n",
    "    delta_new = delta + lms_data - np.log(market_shares_pred)\n",
    "    \n",
    "    # normalize one delta for each choiceset \n",
    "    if DONORMALIZE: \n",
    "        delta_new -= delta_new[:, 0].reshape(-1,1)\n",
    "    \n",
    "    return delta_new"
   ]
  },
  {
   "cell_type": "code",
   "execution_count": 24,
   "id": "8f369248-397f-4b87-a8c7-2df0a0d7221a",
   "metadata": {},
   "outputs": [],
   "source": [
    "def fxp(delta0, f_contract=contract, maxit=100, tol=1e-12, DOPRINT=False): \n",
    "    assert callable(contract)\n",
    "    N,J = delta0.shape\n",
    "    \n",
    "    crits = [] \n",
    "    success = False \n",
    "    d0 = np.copy(delta0) \n",
    "    \n",
    "    for it in range(maxit): \n",
    "        d1 = f_contract(d0) \n",
    "\n",
    "        crit = np.max(np.abs(d1 - d0))\n",
    "        crits.append(crit)\n",
    "        \n",
    "        # check convergence \n",
    "        if crit < tol: \n",
    "            print(f'Convergence achieved at {it=}, {crit=: 8.4g}')\n",
    "            success = True\n",
    "            break\n",
    "        else: \n",
    "            # update \n",
    "            if DOPRINT:  \n",
    "                print(f'{it=:3d}: {crit=:8.4g}')\n",
    "            d0 = d1\n",
    "            \n",
    "    return d1, success, crits "
   ]
  },
  {
   "cell_type": "code",
   "execution_count": 25,
   "id": "2eff735f-f42b-48cd-b3e5-12e77a425d9d",
   "metadata": {},
   "outputs": [
    {
     "name": "stdout",
     "output_type": "stream",
     "text": [
      "Convergence achieved at it=67, crit= 7.55e-13\n"
     ]
    }
   ],
   "source": [
    "delta0 = np.zeros((N,J))\n",
    "delta_star, success, crits = fxp(delta0, f_contract=contract, maxit=100)"
   ]
  },
  {
   "cell_type": "markdown",
   "id": "38397c0d-b3ad-4811-a509-74a90ae0a7d8",
   "metadata": {},
   "source": [
    "Plotting convergence of the criterion by successive approximations."
   ]
  },
  {
   "cell_type": "code",
   "execution_count": 26,
   "id": "10702b62-4fe3-4560-a9f9-d9ee7bfe5526",
   "metadata": {},
   "outputs": [
    {
     "data": {
      "image/png": "[encoded data removed]",
      "text/plain": [
       "<Figure size 432x288 with 1 Axes>"
      ]
     },
     "metadata": {
      "needs_background": "light"
     },
     "output_type": "display_data"
    }
   ],
   "source": [
    "fig,ax = plt.subplots()\n",
    "ax.plot(crits)\n",
    "ax.set_yscale('log');\n",
    "ax.set_ylabel('$\\\\Vert \\delta^{r} - \\delta^{r-1} \\\\Vert$')\n",
    "ax.set_xlabel('Iteration'); "
   ]
  },
  {
   "cell_type": "markdown",
   "id": "bf81fa69-3261-472b-a489-51d23455802c",
   "metadata": {},
   "source": [
    "## Jacobian \n",
    "\n",
    "***Work in progress below*** There's a bug in the code below. Fix it! :)"
   ]
  },
  {
   "cell_type": "code",
   "execution_count": 27,
   "id": "bf158a6b-212a-47e7-978e-6692ddcd54de",
   "metadata": {},
   "outputs": [],
   "source": [
    "def jac_contract(delta, DONORMALIZE=True): \n",
    "    '''Jacobian of the contraction operator''' \n",
    "    N,J = delta.shape \n",
    "    NJ = delta.size    \n",
    "    \n",
    "\n",
    "    J_s_tot = np.zeros((NJ,NJ)) \n",
    "    J_common = np.zeros((NJ,NJ))\n",
    "    \n",
    "    for s in range(S): \n",
    "\n",
    "        # 1. compute CCPs \n",
    "        c = ccp_s(delta, x_demean, thetas[s,:]) \n",
    "        \n",
    "        # 2. create -s_ij * s_ik \n",
    "        # since c is N*J, and since blocks only form within markets (i.e. rows), \n",
    "        # we just have to compute the outer product of each row, i=1,...,N\n",
    "        #J_common = block_diag(*[np.outer(c[i,:], c[i,:]) for i in range(N)])\n",
    "        \n",
    "        # reset the entire diagonal (zeros outside are untouched)\n",
    "        for i in range(N): \n",
    "            idx = slice(i*J, i*J+J)\n",
    "            J_common[idx, idx] = np.outer(c[i,:], c[i,:])\n",
    "\n",
    "        # 3. add s_ij to diagonal (keeping all other elements = -s_ij*s_ik \n",
    "        J_s = np.diag(c.flatten()) - J_common\n",
    "        \n",
    "        J_s_tot += J_s / S\n",
    "\n",
    "    # compute CCPs \n",
    "    c = ccp_full(delta, x_demean, thetas) \n",
    "    # account for outer \"delta + log()\" \n",
    "    J_full = np.eye(NJ) - 1./(c.reshape(NJ,1)) * J_s_tot\n",
    "    \n",
    "    # there are N blocks of (J,J)\n",
    "    if DONORMALIZE: \n",
    "        for i in range(N): \n",
    "            idx = slice(J*i, J*i+J) # the rows/cols of block i \n",
    "            J0_i = J_full[idx, J*i].reshape(J, 1)\n",
    "            J_full[idx,idx] -= J0_i\n",
    "    \n",
    "    return J_full \n",
    "\n",
    "def jac_contract_num(delta0, f_contract=contract, i=0, j=0, h=1e-8, DONORMALIZE=True): \n",
    "    '''Numerical Jacobian (one row in the matrix)'''\n",
    "    NJ = delta0.size\n",
    "    assert callable(f_contract)\n",
    "    \n",
    "    d0 = f_contract(delta0, DONORMALIZE)\n",
    "\n",
    "    # compute step \n",
    "    delta1 = np.copy(delta0)\n",
    "    if delta1[i,j] == 0.0: \n",
    "        delta1[i,j] = h\n",
    "        step = h\n",
    "    else: \n",
    "        delta1[i,j] = delta0[i,j]*(1.+h)\n",
    "        step = h*delta0[i,j]\n",
    "\n",
    "    # evaluate at d1 \n",
    "    d1 = f_contract(delta1, DONORMALIZE)\n",
    "\n",
    "    # newton quotient \n",
    "    Jac_num = (d1 - d0)/step\n",
    "\n",
    "    Jac_num = Jac_num.reshape(1, NJ)\n",
    "    \n",
    "    return Jac_num"
   ]
  },
  {
   "cell_type": "code",
   "execution_count": 28,
   "id": "d52faedf-d2a3-4ba6-bbce-669535adde92",
   "metadata": {},
   "outputs": [],
   "source": [
    "d0 = np.zeros((N,J))"
   ]
  },
  {
   "cell_type": "code",
   "execution_count": 29,
   "id": "a35cb466-622c-41a9-97f4-11c1c3989794",
   "metadata": {},
   "outputs": [
    {
     "data": {
      "text/html": [
       "<div>\n",
       "<style scoped>\n",
       "    .dataframe tbody tr th:only-of-type {\n",
       "        vertical-align: middle;\n",
       "    }\n",
       "\n",
       "    .dataframe tbody tr th {\n",
       "        vertical-align: top;\n",
       "    }\n",
       "\n",
       "    .dataframe thead th {\n",
       "        text-align: right;\n",
       "    }\n",
       "</style>\n",
       "<table border=\"1\" class=\"dataframe\">\n",
       "  <thead>\n",
       "    <tr style=\"text-align: right;\">\n",
       "      <th></th>\n",
       "      <th>Anal</th>\n",
       "      <th>Num</th>\n",
       "    </tr>\n",
       "  </thead>\n",
       "  <tbody>\n",
       "    <tr>\n",
       "      <th>0</th>\n",
       "      <td>0.000061</td>\n",
       "      <td>0.000061</td>\n",
       "    </tr>\n",
       "    <tr>\n",
       "      <th>1</th>\n",
       "      <td>0.000983</td>\n",
       "      <td>0.000030</td>\n",
       "    </tr>\n",
       "    <tr>\n",
       "      <th>2</th>\n",
       "      <td>0.000045</td>\n",
       "      <td>0.000059</td>\n",
       "    </tr>\n",
       "    <tr>\n",
       "      <th>3</th>\n",
       "      <td>0.001373</td>\n",
       "      <td>0.000046</td>\n",
       "    </tr>\n",
       "    <tr>\n",
       "      <th>4</th>\n",
       "      <td>0.001873</td>\n",
       "      <td>0.000050</td>\n",
       "    </tr>\n",
       "    <tr>\n",
       "      <th>...</th>\n",
       "      <td>...</td>\n",
       "      <td>...</td>\n",
       "    </tr>\n",
       "    <tr>\n",
       "      <th>5954</th>\n",
       "      <td>0.000000</td>\n",
       "      <td>0.000000</td>\n",
       "    </tr>\n",
       "    <tr>\n",
       "      <th>5955</th>\n",
       "      <td>0.000000</td>\n",
       "      <td>0.000000</td>\n",
       "    </tr>\n",
       "    <tr>\n",
       "      <th>5956</th>\n",
       "      <td>0.000000</td>\n",
       "      <td>0.000000</td>\n",
       "    </tr>\n",
       "    <tr>\n",
       "      <th>5957</th>\n",
       "      <td>0.000000</td>\n",
       "      <td>0.000000</td>\n",
       "    </tr>\n",
       "    <tr>\n",
       "      <th>5958</th>\n",
       "      <td>0.000000</td>\n",
       "      <td>0.000000</td>\n",
       "    </tr>\n",
       "  </tbody>\n",
       "</table>\n",
       "<p>5959 rows × 2 columns</p>\n",
       "</div>"
      ],
      "text/plain": [
       "          Anal       Num\n",
       "0     0.000061  0.000061\n",
       "1     0.000983  0.000030\n",
       "2     0.000045  0.000059\n",
       "3     0.001373  0.000046\n",
       "4     0.001873  0.000050\n",
       "...        ...       ...\n",
       "5954  0.000000  0.000000\n",
       "5955  0.000000  0.000000\n",
       "5956  0.000000  0.000000\n",
       "5957  0.000000  0.000000\n",
       "5958  0.000000  0.000000\n",
       "\n",
       "[5959 rows x 2 columns]"
      ]
     },
     "execution_count": 29,
     "metadata": {},
     "output_type": "execute_result"
    }
   ],
   "source": [
    "i=1\n",
    "j=0\n",
    "DON = False\n",
    "JA = jac_contract(d0, DONORMALIZE=DON)\n",
    "JN = jac_contract_num(d0, contract, i, j, DONORMALIZE=DON)\n",
    "JAvec = JA[i*J +j, i*J:-1]\n",
    "JNvec = JN[0, i*J:-1]\n",
    "\n",
    "pd.DataFrame({'Anal':JAvec, 'Num':JNvec}) # <- these should give identical numbers"
   ]
  },
  {
   "cell_type": "code",
   "execution_count": 30,
   "id": "50b790bc-6d45-4ca7-9ac6-5eee04af769c",
   "metadata": {},
   "outputs": [
    {
     "ename": "AssertionError",
     "evalue": "Some error remains in the Jacobian",
     "output_type": "error",
     "traceback": [
      "\u001b[0;31m---------------------------------------------------------------------------\u001b[0m",
      "\u001b[0;31mAssertionError\u001b[0m                            Traceback (most recent call last)",
      "\u001b[0;32m/var/folders/3b/nl75n8697pjcc9bm_1bq94fm0000gn/T/ipykernel_10419/3198057073.py\u001b[0m in \u001b[0;36m<module>\u001b[0;34m\u001b[0m\n\u001b[1;32m      1\u001b[0m \u001b[0mi\u001b[0m\u001b[0;34m=\u001b[0m\u001b[0;36m0\u001b[0m\u001b[0;34m\u001b[0m\u001b[0;34m\u001b[0m\u001b[0m\n\u001b[0;32m----> 2\u001b[0;31m \u001b[0;32massert\u001b[0m \u001b[0mnp\u001b[0m\u001b[0;34m.\u001b[0m\u001b[0mmean\u001b[0m\u001b[0;34m(\u001b[0m\u001b[0mnp\u001b[0m\u001b[0;34m.\u001b[0m\u001b[0mabs\u001b[0m\u001b[0;34m(\u001b[0m\u001b[0;34m(\u001b[0m\u001b[0mjac_contract\u001b[0m\u001b[0;34m(\u001b[0m\u001b[0mdelta_star\u001b[0m\u001b[0;34m)\u001b[0m\u001b[0;34m[\u001b[0m\u001b[0mi\u001b[0m\u001b[0;34m,\u001b[0m \u001b[0;34m:\u001b[0m\u001b[0;34m]\u001b[0m \u001b[0;34m-\u001b[0m \u001b[0mjac_contract_num\u001b[0m\u001b[0;34m(\u001b[0m\u001b[0mdelta_star\u001b[0m\u001b[0;34m,\u001b[0m \u001b[0mcontract\u001b[0m\u001b[0;34m,\u001b[0m \u001b[0mi\u001b[0m\u001b[0;34m)\u001b[0m\u001b[0;34m)\u001b[0m\u001b[0;34m)\u001b[0m\u001b[0;34m)\u001b[0m \u001b[0;34m<\u001b[0m \u001b[0;36m1e-8\u001b[0m\u001b[0;34m,\u001b[0m\u001b[0;31m \u001b[0m\u001b[0;31m\\\u001b[0m\u001b[0;34m\u001b[0m\u001b[0;34m\u001b[0m\u001b[0m\n\u001b[0m\u001b[1;32m      3\u001b[0m     \u001b[0;34mf'Some error remains in the Jacobian'\u001b[0m\u001b[0;34m\u001b[0m\u001b[0;34m\u001b[0m\u001b[0m\n",
      "\u001b[0;31mAssertionError\u001b[0m: Some error remains in the Jacobian"
     ]
    }
   ],
   "source": [
    "i=0\n",
    "assert np.mean(np.abs((jac_contract(delta_star)[i, :] - jac_contract_num(delta_star, contract, i)))) < 1e-8, \\\n",
    "    f'Some error remains in the Jacobian'"
   ]
  },
  {
   "cell_type": "markdown",
   "id": "0fb8d0af-0bc2-4cfa-9745-8393677dbf93",
   "metadata": {},
   "source": [
    "**Status:** I'm pretty sure that my suffering is because of the normalization of one of my delta coefficients. I've created my FXP so that it iterates on a full list of deltas even though some of them are later killed :/ I'm subtracting `delta[:, 0]`, i.e. doing $\\delta_{ij} -= \\delta_{i1}$ for all $j$ (also meaning that $\\delta_{i1} = 0.0$ always). The Jacobian thus must have zero partial effect for the first entry, which it does. But the others do not align, somehow. "
   ]
  }
 ],
 "metadata": {
  "kernelspec": {
   "display_name": "Python 3 (ipykernel)",
   "language": "python",
   "name": "python3"
  },
  "language_info": {
   "codemirror_mode": {
    "name": "ipython",
    "version": 3
   },
   "file_extension": ".py",
   "mimetype": "text/x-python",
   "name": "python",
   "nbconvert_exporter": "python",
   "pygments_lexer": "ipython3",
   "version": "3.8.2"
  }
 },
 "nbformat": 4,
 "nbformat_minor": 5
}
